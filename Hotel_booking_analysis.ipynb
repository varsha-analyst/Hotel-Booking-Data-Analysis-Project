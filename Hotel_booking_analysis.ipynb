{
 "cells": [
  {
   "cell_type": "code",
   "execution_count": 683,
   "id": "a9e314c6-b99b-4659-b870-4eb6e73c1113",
   "metadata": {},
   "outputs": [],
   "source": [
    "import pandas as pd\n",
    "import matplotlib.pyplot as plt\n",
    "import seaborn as sns\n",
    "import warnings\n",
    "warnings.filterwarnings('ignore')"
   ]
  },
  {
   "cell_type": "code",
   "execution_count": 684,
   "id": "79537c74-ed60-4214-a58b-a972181c080e",
   "metadata": {},
   "outputs": [],
   "source": [
    "# Load the dataset\n",
    "df = pd.read_csv('hotel_bookings 2.csv')  # loading dataset "
   ]
  },
  {
   "cell_type": "code",
   "execution_count": 685,
   "id": "c3856374-ed34-4581-8035-a2563fb10e63",
   "metadata": {},
   "outputs": [
    {
     "data": {
      "text/html": [
       "<div>\n",
       "<style scoped>\n",
       "    .dataframe tbody tr th:only-of-type {\n",
       "        vertical-align: middle;\n",
       "    }\n",
       "\n",
       "    .dataframe tbody tr th {\n",
       "        vertical-align: top;\n",
       "    }\n",
       "\n",
       "    .dataframe thead th {\n",
       "        text-align: right;\n",
       "    }\n",
       "</style>\n",
       "<table border=\"1\" class=\"dataframe\">\n",
       "  <thead>\n",
       "    <tr style=\"text-align: right;\">\n",
       "      <th></th>\n",
       "      <th>hotel</th>\n",
       "      <th>is_canceled</th>\n",
       "      <th>lead_time</th>\n",
       "      <th>arrival_date_year</th>\n",
       "      <th>arrival_date_month</th>\n",
       "      <th>arrival_date_week_number</th>\n",
       "      <th>arrival_date_day_of_month</th>\n",
       "      <th>stays_in_weekend_nights</th>\n",
       "      <th>stays_in_week_nights</th>\n",
       "      <th>adults</th>\n",
       "      <th>...</th>\n",
       "      <th>deposit_type</th>\n",
       "      <th>agent</th>\n",
       "      <th>company</th>\n",
       "      <th>days_in_waiting_list</th>\n",
       "      <th>customer_type</th>\n",
       "      <th>adr</th>\n",
       "      <th>required_car_parking_spaces</th>\n",
       "      <th>total_of_special_requests</th>\n",
       "      <th>reservation_status</th>\n",
       "      <th>reservation_status_date</th>\n",
       "    </tr>\n",
       "  </thead>\n",
       "  <tbody>\n",
       "    <tr>\n",
       "      <th>0</th>\n",
       "      <td>Resort Hotel</td>\n",
       "      <td>0</td>\n",
       "      <td>342</td>\n",
       "      <td>2015</td>\n",
       "      <td>July</td>\n",
       "      <td>27</td>\n",
       "      <td>1</td>\n",
       "      <td>0</td>\n",
       "      <td>0</td>\n",
       "      <td>2</td>\n",
       "      <td>...</td>\n",
       "      <td>No Deposit</td>\n",
       "      <td>NaN</td>\n",
       "      <td>NaN</td>\n",
       "      <td>0</td>\n",
       "      <td>Transient</td>\n",
       "      <td>0.0</td>\n",
       "      <td>0</td>\n",
       "      <td>0</td>\n",
       "      <td>Check-Out</td>\n",
       "      <td>1/7/2015</td>\n",
       "    </tr>\n",
       "    <tr>\n",
       "      <th>1</th>\n",
       "      <td>Resort Hotel</td>\n",
       "      <td>0</td>\n",
       "      <td>737</td>\n",
       "      <td>2015</td>\n",
       "      <td>July</td>\n",
       "      <td>27</td>\n",
       "      <td>1</td>\n",
       "      <td>0</td>\n",
       "      <td>0</td>\n",
       "      <td>2</td>\n",
       "      <td>...</td>\n",
       "      <td>No Deposit</td>\n",
       "      <td>NaN</td>\n",
       "      <td>NaN</td>\n",
       "      <td>0</td>\n",
       "      <td>Transient</td>\n",
       "      <td>0.0</td>\n",
       "      <td>0</td>\n",
       "      <td>0</td>\n",
       "      <td>Check-Out</td>\n",
       "      <td>1/7/2015</td>\n",
       "    </tr>\n",
       "    <tr>\n",
       "      <th>2</th>\n",
       "      <td>Resort Hotel</td>\n",
       "      <td>0</td>\n",
       "      <td>7</td>\n",
       "      <td>2015</td>\n",
       "      <td>July</td>\n",
       "      <td>27</td>\n",
       "      <td>1</td>\n",
       "      <td>0</td>\n",
       "      <td>1</td>\n",
       "      <td>1</td>\n",
       "      <td>...</td>\n",
       "      <td>No Deposit</td>\n",
       "      <td>NaN</td>\n",
       "      <td>NaN</td>\n",
       "      <td>0</td>\n",
       "      <td>Transient</td>\n",
       "      <td>75.0</td>\n",
       "      <td>0</td>\n",
       "      <td>0</td>\n",
       "      <td>Check-Out</td>\n",
       "      <td>2/7/2015</td>\n",
       "    </tr>\n",
       "    <tr>\n",
       "      <th>3</th>\n",
       "      <td>Resort Hotel</td>\n",
       "      <td>0</td>\n",
       "      <td>13</td>\n",
       "      <td>2015</td>\n",
       "      <td>July</td>\n",
       "      <td>27</td>\n",
       "      <td>1</td>\n",
       "      <td>0</td>\n",
       "      <td>1</td>\n",
       "      <td>1</td>\n",
       "      <td>...</td>\n",
       "      <td>No Deposit</td>\n",
       "      <td>304.0</td>\n",
       "      <td>NaN</td>\n",
       "      <td>0</td>\n",
       "      <td>Transient</td>\n",
       "      <td>75.0</td>\n",
       "      <td>0</td>\n",
       "      <td>0</td>\n",
       "      <td>Check-Out</td>\n",
       "      <td>2/7/2015</td>\n",
       "    </tr>\n",
       "    <tr>\n",
       "      <th>4</th>\n",
       "      <td>Resort Hotel</td>\n",
       "      <td>0</td>\n",
       "      <td>14</td>\n",
       "      <td>2015</td>\n",
       "      <td>July</td>\n",
       "      <td>27</td>\n",
       "      <td>1</td>\n",
       "      <td>0</td>\n",
       "      <td>2</td>\n",
       "      <td>2</td>\n",
       "      <td>...</td>\n",
       "      <td>No Deposit</td>\n",
       "      <td>240.0</td>\n",
       "      <td>NaN</td>\n",
       "      <td>0</td>\n",
       "      <td>Transient</td>\n",
       "      <td>98.0</td>\n",
       "      <td>0</td>\n",
       "      <td>1</td>\n",
       "      <td>Check-Out</td>\n",
       "      <td>3/7/2015</td>\n",
       "    </tr>\n",
       "  </tbody>\n",
       "</table>\n",
       "<p>5 rows × 32 columns</p>\n",
       "</div>"
      ],
      "text/plain": [
       "          hotel  is_canceled  lead_time  arrival_date_year arrival_date_month  \\\n",
       "0  Resort Hotel            0        342               2015               July   \n",
       "1  Resort Hotel            0        737               2015               July   \n",
       "2  Resort Hotel            0          7               2015               July   \n",
       "3  Resort Hotel            0         13               2015               July   \n",
       "4  Resort Hotel            0         14               2015               July   \n",
       "\n",
       "   arrival_date_week_number  arrival_date_day_of_month  \\\n",
       "0                        27                          1   \n",
       "1                        27                          1   \n",
       "2                        27                          1   \n",
       "3                        27                          1   \n",
       "4                        27                          1   \n",
       "\n",
       "   stays_in_weekend_nights  stays_in_week_nights  adults  ...  deposit_type  \\\n",
       "0                        0                     0       2  ...    No Deposit   \n",
       "1                        0                     0       2  ...    No Deposit   \n",
       "2                        0                     1       1  ...    No Deposit   \n",
       "3                        0                     1       1  ...    No Deposit   \n",
       "4                        0                     2       2  ...    No Deposit   \n",
       "\n",
       "   agent company days_in_waiting_list customer_type   adr  \\\n",
       "0    NaN     NaN                    0     Transient   0.0   \n",
       "1    NaN     NaN                    0     Transient   0.0   \n",
       "2    NaN     NaN                    0     Transient  75.0   \n",
       "3  304.0     NaN                    0     Transient  75.0   \n",
       "4  240.0     NaN                    0     Transient  98.0   \n",
       "\n",
       "   required_car_parking_spaces  total_of_special_requests  reservation_status  \\\n",
       "0                            0                          0           Check-Out   \n",
       "1                            0                          0           Check-Out   \n",
       "2                            0                          0           Check-Out   \n",
       "3                            0                          0           Check-Out   \n",
       "4                            0                          1           Check-Out   \n",
       "\n",
       "  reservation_status_date  \n",
       "0                1/7/2015  \n",
       "1                1/7/2015  \n",
       "2                2/7/2015  \n",
       "3                2/7/2015  \n",
       "4                3/7/2015  \n",
       "\n",
       "[5 rows x 32 columns]"
      ]
     },
     "execution_count": 685,
     "metadata": {},
     "output_type": "execute_result"
    }
   ],
   "source": [
    "# Display the first few rows of the dataset\n",
    "df.head()"
   ]
  },
  {
   "cell_type": "code",
   "execution_count": 686,
   "id": "30c69658-1d84-426d-a7b3-64d28bc7dec1",
   "metadata": {},
   "outputs": [
    {
     "data": {
      "text/html": [
       "<div>\n",
       "<style scoped>\n",
       "    .dataframe tbody tr th:only-of-type {\n",
       "        vertical-align: middle;\n",
       "    }\n",
       "\n",
       "    .dataframe tbody tr th {\n",
       "        vertical-align: top;\n",
       "    }\n",
       "\n",
       "    .dataframe thead th {\n",
       "        text-align: right;\n",
       "    }\n",
       "</style>\n",
       "<table border=\"1\" class=\"dataframe\">\n",
       "  <thead>\n",
       "    <tr style=\"text-align: right;\">\n",
       "      <th></th>\n",
       "      <th>hotel</th>\n",
       "      <th>is_canceled</th>\n",
       "      <th>lead_time</th>\n",
       "      <th>arrival_date_year</th>\n",
       "      <th>arrival_date_month</th>\n",
       "      <th>arrival_date_week_number</th>\n",
       "      <th>arrival_date_day_of_month</th>\n",
       "      <th>stays_in_weekend_nights</th>\n",
       "      <th>stays_in_week_nights</th>\n",
       "      <th>adults</th>\n",
       "      <th>...</th>\n",
       "      <th>deposit_type</th>\n",
       "      <th>agent</th>\n",
       "      <th>company</th>\n",
       "      <th>days_in_waiting_list</th>\n",
       "      <th>customer_type</th>\n",
       "      <th>adr</th>\n",
       "      <th>required_car_parking_spaces</th>\n",
       "      <th>total_of_special_requests</th>\n",
       "      <th>reservation_status</th>\n",
       "      <th>reservation_status_date</th>\n",
       "    </tr>\n",
       "  </thead>\n",
       "  <tbody>\n",
       "    <tr>\n",
       "      <th>119385</th>\n",
       "      <td>City Hotel</td>\n",
       "      <td>0</td>\n",
       "      <td>23</td>\n",
       "      <td>2017</td>\n",
       "      <td>August</td>\n",
       "      <td>35</td>\n",
       "      <td>30</td>\n",
       "      <td>2</td>\n",
       "      <td>5</td>\n",
       "      <td>2</td>\n",
       "      <td>...</td>\n",
       "      <td>No Deposit</td>\n",
       "      <td>394.0</td>\n",
       "      <td>NaN</td>\n",
       "      <td>0</td>\n",
       "      <td>Transient</td>\n",
       "      <td>96.14</td>\n",
       "      <td>0</td>\n",
       "      <td>0</td>\n",
       "      <td>Check-Out</td>\n",
       "      <td>6/9/2017</td>\n",
       "    </tr>\n",
       "    <tr>\n",
       "      <th>119386</th>\n",
       "      <td>City Hotel</td>\n",
       "      <td>0</td>\n",
       "      <td>102</td>\n",
       "      <td>2017</td>\n",
       "      <td>August</td>\n",
       "      <td>35</td>\n",
       "      <td>31</td>\n",
       "      <td>2</td>\n",
       "      <td>5</td>\n",
       "      <td>3</td>\n",
       "      <td>...</td>\n",
       "      <td>No Deposit</td>\n",
       "      <td>9.0</td>\n",
       "      <td>NaN</td>\n",
       "      <td>0</td>\n",
       "      <td>Transient</td>\n",
       "      <td>225.43</td>\n",
       "      <td>0</td>\n",
       "      <td>2</td>\n",
       "      <td>Check-Out</td>\n",
       "      <td>7/9/2017</td>\n",
       "    </tr>\n",
       "    <tr>\n",
       "      <th>119387</th>\n",
       "      <td>City Hotel</td>\n",
       "      <td>0</td>\n",
       "      <td>34</td>\n",
       "      <td>2017</td>\n",
       "      <td>August</td>\n",
       "      <td>35</td>\n",
       "      <td>31</td>\n",
       "      <td>2</td>\n",
       "      <td>5</td>\n",
       "      <td>2</td>\n",
       "      <td>...</td>\n",
       "      <td>No Deposit</td>\n",
       "      <td>9.0</td>\n",
       "      <td>NaN</td>\n",
       "      <td>0</td>\n",
       "      <td>Transient</td>\n",
       "      <td>157.71</td>\n",
       "      <td>0</td>\n",
       "      <td>4</td>\n",
       "      <td>Check-Out</td>\n",
       "      <td>7/9/2017</td>\n",
       "    </tr>\n",
       "    <tr>\n",
       "      <th>119388</th>\n",
       "      <td>City Hotel</td>\n",
       "      <td>0</td>\n",
       "      <td>109</td>\n",
       "      <td>2017</td>\n",
       "      <td>August</td>\n",
       "      <td>35</td>\n",
       "      <td>31</td>\n",
       "      <td>2</td>\n",
       "      <td>5</td>\n",
       "      <td>2</td>\n",
       "      <td>...</td>\n",
       "      <td>No Deposit</td>\n",
       "      <td>89.0</td>\n",
       "      <td>NaN</td>\n",
       "      <td>0</td>\n",
       "      <td>Transient</td>\n",
       "      <td>104.40</td>\n",
       "      <td>0</td>\n",
       "      <td>0</td>\n",
       "      <td>Check-Out</td>\n",
       "      <td>7/9/2017</td>\n",
       "    </tr>\n",
       "    <tr>\n",
       "      <th>119389</th>\n",
       "      <td>City Hotel</td>\n",
       "      <td>0</td>\n",
       "      <td>205</td>\n",
       "      <td>2017</td>\n",
       "      <td>August</td>\n",
       "      <td>35</td>\n",
       "      <td>29</td>\n",
       "      <td>2</td>\n",
       "      <td>7</td>\n",
       "      <td>2</td>\n",
       "      <td>...</td>\n",
       "      <td>No Deposit</td>\n",
       "      <td>9.0</td>\n",
       "      <td>NaN</td>\n",
       "      <td>0</td>\n",
       "      <td>Transient</td>\n",
       "      <td>151.20</td>\n",
       "      <td>0</td>\n",
       "      <td>2</td>\n",
       "      <td>Check-Out</td>\n",
       "      <td>7/9/2017</td>\n",
       "    </tr>\n",
       "  </tbody>\n",
       "</table>\n",
       "<p>5 rows × 32 columns</p>\n",
       "</div>"
      ],
      "text/plain": [
       "             hotel  is_canceled  lead_time  arrival_date_year  \\\n",
       "119385  City Hotel            0         23               2017   \n",
       "119386  City Hotel            0        102               2017   \n",
       "119387  City Hotel            0         34               2017   \n",
       "119388  City Hotel            0        109               2017   \n",
       "119389  City Hotel            0        205               2017   \n",
       "\n",
       "       arrival_date_month  arrival_date_week_number  \\\n",
       "119385             August                        35   \n",
       "119386             August                        35   \n",
       "119387             August                        35   \n",
       "119388             August                        35   \n",
       "119389             August                        35   \n",
       "\n",
       "        arrival_date_day_of_month  stays_in_weekend_nights  \\\n",
       "119385                         30                        2   \n",
       "119386                         31                        2   \n",
       "119387                         31                        2   \n",
       "119388                         31                        2   \n",
       "119389                         29                        2   \n",
       "\n",
       "        stays_in_week_nights  adults  ...  deposit_type  agent company  \\\n",
       "119385                     5       2  ...    No Deposit  394.0     NaN   \n",
       "119386                     5       3  ...    No Deposit    9.0     NaN   \n",
       "119387                     5       2  ...    No Deposit    9.0     NaN   \n",
       "119388                     5       2  ...    No Deposit   89.0     NaN   \n",
       "119389                     7       2  ...    No Deposit    9.0     NaN   \n",
       "\n",
       "       days_in_waiting_list customer_type     adr  \\\n",
       "119385                    0     Transient   96.14   \n",
       "119386                    0     Transient  225.43   \n",
       "119387                    0     Transient  157.71   \n",
       "119388                    0     Transient  104.40   \n",
       "119389                    0     Transient  151.20   \n",
       "\n",
       "        required_car_parking_spaces  total_of_special_requests  \\\n",
       "119385                            0                          0   \n",
       "119386                            0                          2   \n",
       "119387                            0                          4   \n",
       "119388                            0                          0   \n",
       "119389                            0                          2   \n",
       "\n",
       "        reservation_status reservation_status_date  \n",
       "119385           Check-Out                6/9/2017  \n",
       "119386           Check-Out                7/9/2017  \n",
       "119387           Check-Out                7/9/2017  \n",
       "119388           Check-Out                7/9/2017  \n",
       "119389           Check-Out                7/9/2017  \n",
       "\n",
       "[5 rows x 32 columns]"
      ]
     },
     "execution_count": 686,
     "metadata": {},
     "output_type": "execute_result"
    }
   ],
   "source": [
    "df.tail()"
   ]
  },
  {
   "cell_type": "code",
   "execution_count": 687,
   "id": "8c5c7c1f-e668-44af-abc1-8edd3a27c51f",
   "metadata": {},
   "outputs": [
    {
     "data": {
      "text/plain": [
       "(119390, 32)"
      ]
     },
     "execution_count": 687,
     "metadata": {},
     "output_type": "execute_result"
    }
   ],
   "source": [
    "df.shape"
   ]
  },
  {
   "cell_type": "code",
   "execution_count": 688,
   "id": "544cd21f-03ff-4102-8f7d-9357cfa7b9e5",
   "metadata": {},
   "outputs": [
    {
     "data": {
      "text/plain": [
       "Index(['hotel', 'is_canceled', 'lead_time', 'arrival_date_year',\n",
       "       'arrival_date_month', 'arrival_date_week_number',\n",
       "       'arrival_date_day_of_month', 'stays_in_weekend_nights',\n",
       "       'stays_in_week_nights', 'adults', 'children', 'babies', 'meal',\n",
       "       'country', 'market_segment', 'distribution_channel',\n",
       "       'is_repeated_guest', 'previous_cancellations',\n",
       "       'previous_bookings_not_canceled', 'reserved_room_type',\n",
       "       'assigned_room_type', 'booking_changes', 'deposit_type', 'agent',\n",
       "       'company', 'days_in_waiting_list', 'customer_type', 'adr',\n",
       "       'required_car_parking_spaces', 'total_of_special_requests',\n",
       "       'reservation_status', 'reservation_status_date'],\n",
       "      dtype='object')"
      ]
     },
     "execution_count": 688,
     "metadata": {},
     "output_type": "execute_result"
    }
   ],
   "source": [
    "df.columns"
   ]
  },
  {
   "cell_type": "code",
   "execution_count": 689,
   "id": "42729f71-bd69-489a-a403-85695ab40d79",
   "metadata": {},
   "outputs": [
    {
     "name": "stdout",
     "output_type": "stream",
     "text": [
      "<class 'pandas.core.frame.DataFrame'>\n",
      "RangeIndex: 119390 entries, 0 to 119389\n",
      "Data columns (total 32 columns):\n",
      " #   Column                          Non-Null Count   Dtype  \n",
      "---  ------                          --------------   -----  \n",
      " 0   hotel                           119390 non-null  object \n",
      " 1   is_canceled                     119390 non-null  int64  \n",
      " 2   lead_time                       119390 non-null  int64  \n",
      " 3   arrival_date_year               119390 non-null  int64  \n",
      " 4   arrival_date_month              119390 non-null  object \n",
      " 5   arrival_date_week_number        119390 non-null  int64  \n",
      " 6   arrival_date_day_of_month       119390 non-null  int64  \n",
      " 7   stays_in_weekend_nights         119390 non-null  int64  \n",
      " 8   stays_in_week_nights            119390 non-null  int64  \n",
      " 9   adults                          119390 non-null  int64  \n",
      " 10  children                        119386 non-null  float64\n",
      " 11  babies                          119390 non-null  int64  \n",
      " 12  meal                            119390 non-null  object \n",
      " 13  country                         118902 non-null  object \n",
      " 14  market_segment                  119390 non-null  object \n",
      " 15  distribution_channel            119390 non-null  object \n",
      " 16  is_repeated_guest               119390 non-null  int64  \n",
      " 17  previous_cancellations          119390 non-null  int64  \n",
      " 18  previous_bookings_not_canceled  119390 non-null  int64  \n",
      " 19  reserved_room_type              119390 non-null  object \n",
      " 20  assigned_room_type              119390 non-null  object \n",
      " 21  booking_changes                 119390 non-null  int64  \n",
      " 22  deposit_type                    119390 non-null  object \n",
      " 23  agent                           103050 non-null  float64\n",
      " 24  company                         6797 non-null    float64\n",
      " 25  days_in_waiting_list            119390 non-null  int64  \n",
      " 26  customer_type                   119390 non-null  object \n",
      " 27  adr                             119390 non-null  float64\n",
      " 28  required_car_parking_spaces     119390 non-null  int64  \n",
      " 29  total_of_special_requests       119390 non-null  int64  \n",
      " 30  reservation_status              119390 non-null  object \n",
      " 31  reservation_status_date         119390 non-null  object \n",
      "dtypes: float64(4), int64(16), object(12)\n",
      "memory usage: 29.1+ MB\n"
     ]
    }
   ],
   "source": [
    "df.info()"
   ]
  },
  {
   "cell_type": "code",
   "execution_count": 690,
   "id": "ae0b97f1-6a6a-43b2-b522-59f07f726255",
   "metadata": {},
   "outputs": [],
   "source": [
    "df[\"reservation_status_date\"] = pd.to_datetime(\n",
    "    df[\"reservation_status_date\"], format=\"%d/%m/%Y\"\n",
    ")"
   ]
  },
  {
   "cell_type": "code",
   "execution_count": 691,
   "id": "c4d4848d-1135-4515-a3c1-694ccd29ef72",
   "metadata": {},
   "outputs": [
    {
     "name": "stdout",
     "output_type": "stream",
     "text": [
      "<class 'pandas.core.frame.DataFrame'>\n",
      "RangeIndex: 119390 entries, 0 to 119389\n",
      "Data columns (total 32 columns):\n",
      " #   Column                          Non-Null Count   Dtype         \n",
      "---  ------                          --------------   -----         \n",
      " 0   hotel                           119390 non-null  object        \n",
      " 1   is_canceled                     119390 non-null  int64         \n",
      " 2   lead_time                       119390 non-null  int64         \n",
      " 3   arrival_date_year               119390 non-null  int64         \n",
      " 4   arrival_date_month              119390 non-null  object        \n",
      " 5   arrival_date_week_number        119390 non-null  int64         \n",
      " 6   arrival_date_day_of_month       119390 non-null  int64         \n",
      " 7   stays_in_weekend_nights         119390 non-null  int64         \n",
      " 8   stays_in_week_nights            119390 non-null  int64         \n",
      " 9   adults                          119390 non-null  int64         \n",
      " 10  children                        119386 non-null  float64       \n",
      " 11  babies                          119390 non-null  int64         \n",
      " 12  meal                            119390 non-null  object        \n",
      " 13  country                         118902 non-null  object        \n",
      " 14  market_segment                  119390 non-null  object        \n",
      " 15  distribution_channel            119390 non-null  object        \n",
      " 16  is_repeated_guest               119390 non-null  int64         \n",
      " 17  previous_cancellations          119390 non-null  int64         \n",
      " 18  previous_bookings_not_canceled  119390 non-null  int64         \n",
      " 19  reserved_room_type              119390 non-null  object        \n",
      " 20  assigned_room_type              119390 non-null  object        \n",
      " 21  booking_changes                 119390 non-null  int64         \n",
      " 22  deposit_type                    119390 non-null  object        \n",
      " 23  agent                           103050 non-null  float64       \n",
      " 24  company                         6797 non-null    float64       \n",
      " 25  days_in_waiting_list            119390 non-null  int64         \n",
      " 26  customer_type                   119390 non-null  object        \n",
      " 27  adr                             119390 non-null  float64       \n",
      " 28  required_car_parking_spaces     119390 non-null  int64         \n",
      " 29  total_of_special_requests       119390 non-null  int64         \n",
      " 30  reservation_status              119390 non-null  object        \n",
      " 31  reservation_status_date         119390 non-null  datetime64[ns]\n",
      "dtypes: datetime64[ns](1), float64(4), int64(16), object(11)\n",
      "memory usage: 29.1+ MB\n"
     ]
    }
   ],
   "source": [
    "df.info()"
   ]
  },
  {
   "cell_type": "code",
   "execution_count": 692,
   "id": "ec98049f-ef71-4318-92ae-969c367580d4",
   "metadata": {},
   "outputs": [
    {
     "data": {
      "text/html": [
       "<div>\n",
       "<style scoped>\n",
       "    .dataframe tbody tr th:only-of-type {\n",
       "        vertical-align: middle;\n",
       "    }\n",
       "\n",
       "    .dataframe tbody tr th {\n",
       "        vertical-align: top;\n",
       "    }\n",
       "\n",
       "    .dataframe thead th {\n",
       "        text-align: right;\n",
       "    }\n",
       "</style>\n",
       "<table border=\"1\" class=\"dataframe\">\n",
       "  <thead>\n",
       "    <tr style=\"text-align: right;\">\n",
       "      <th></th>\n",
       "      <th>hotel</th>\n",
       "      <th>arrival_date_month</th>\n",
       "      <th>meal</th>\n",
       "      <th>country</th>\n",
       "      <th>market_segment</th>\n",
       "      <th>distribution_channel</th>\n",
       "      <th>reserved_room_type</th>\n",
       "      <th>assigned_room_type</th>\n",
       "      <th>deposit_type</th>\n",
       "      <th>customer_type</th>\n",
       "      <th>reservation_status</th>\n",
       "    </tr>\n",
       "  </thead>\n",
       "  <tbody>\n",
       "    <tr>\n",
       "      <th>count</th>\n",
       "      <td>119390</td>\n",
       "      <td>119390</td>\n",
       "      <td>119390</td>\n",
       "      <td>118902</td>\n",
       "      <td>119390</td>\n",
       "      <td>119390</td>\n",
       "      <td>119390</td>\n",
       "      <td>119390</td>\n",
       "      <td>119390</td>\n",
       "      <td>119390</td>\n",
       "      <td>119390</td>\n",
       "    </tr>\n",
       "    <tr>\n",
       "      <th>unique</th>\n",
       "      <td>2</td>\n",
       "      <td>12</td>\n",
       "      <td>5</td>\n",
       "      <td>177</td>\n",
       "      <td>8</td>\n",
       "      <td>5</td>\n",
       "      <td>10</td>\n",
       "      <td>12</td>\n",
       "      <td>3</td>\n",
       "      <td>4</td>\n",
       "      <td>3</td>\n",
       "    </tr>\n",
       "    <tr>\n",
       "      <th>top</th>\n",
       "      <td>City Hotel</td>\n",
       "      <td>August</td>\n",
       "      <td>BB</td>\n",
       "      <td>PRT</td>\n",
       "      <td>Online TA</td>\n",
       "      <td>TA/TO</td>\n",
       "      <td>A</td>\n",
       "      <td>A</td>\n",
       "      <td>No Deposit</td>\n",
       "      <td>Transient</td>\n",
       "      <td>Check-Out</td>\n",
       "    </tr>\n",
       "    <tr>\n",
       "      <th>freq</th>\n",
       "      <td>79330</td>\n",
       "      <td>13877</td>\n",
       "      <td>92310</td>\n",
       "      <td>48590</td>\n",
       "      <td>56477</td>\n",
       "      <td>97870</td>\n",
       "      <td>85994</td>\n",
       "      <td>74053</td>\n",
       "      <td>104641</td>\n",
       "      <td>89613</td>\n",
       "      <td>75166</td>\n",
       "    </tr>\n",
       "  </tbody>\n",
       "</table>\n",
       "</div>"
      ],
      "text/plain": [
       "             hotel arrival_date_month    meal country market_segment  \\\n",
       "count       119390             119390  119390  118902         119390   \n",
       "unique           2                 12       5     177              8   \n",
       "top     City Hotel             August      BB     PRT      Online TA   \n",
       "freq         79330              13877   92310   48590          56477   \n",
       "\n",
       "       distribution_channel reserved_room_type assigned_room_type  \\\n",
       "count                119390             119390             119390   \n",
       "unique                    5                 10                 12   \n",
       "top                   TA/TO                  A                  A   \n",
       "freq                  97870              85994              74053   \n",
       "\n",
       "       deposit_type customer_type reservation_status  \n",
       "count        119390        119390             119390  \n",
       "unique            3             4                  3  \n",
       "top      No Deposit     Transient          Check-Out  \n",
       "freq         104641         89613              75166  "
      ]
     },
     "execution_count": 692,
     "metadata": {},
     "output_type": "execute_result"
    }
   ],
   "source": [
    "df.describe(include=object)   #summary of category column"
   ]
  },
  {
   "cell_type": "code",
   "execution_count": 693,
   "id": "1e03fa5d-a600-4fd3-b048-ab27d75e5aa1",
   "metadata": {},
   "outputs": [
    {
     "name": "stdout",
     "output_type": "stream",
     "text": [
      "hotel\n",
      "['Resort Hotel' 'City Hotel']\n",
      "-------------------------------------------------------------------\n",
      "arrival_date_month\n",
      "['July' 'August' 'September' 'October' 'November' 'December' 'January'\n",
      " 'February' 'March' 'April' 'May' 'June']\n",
      "-------------------------------------------------------------------\n",
      "meal\n",
      "['BB' 'FB' 'HB' 'SC' 'Undefined']\n",
      "-------------------------------------------------------------------\n",
      "country\n",
      "['PRT' 'GBR' 'USA' 'ESP' 'IRL' 'FRA' nan 'ROU' 'NOR' 'OMN' 'ARG' 'POL'\n",
      " 'DEU' 'BEL' 'CHE' 'CN' 'GRC' 'ITA' 'NLD' 'DNK' 'RUS' 'SWE' 'AUS' 'EST'\n",
      " 'CZE' 'BRA' 'FIN' 'MOZ' 'BWA' 'LUX' 'SVN' 'ALB' 'IND' 'CHN' 'MEX' 'MAR'\n",
      " 'UKR' 'SMR' 'LVA' 'PRI' 'SRB' 'CHL' 'AUT' 'BLR' 'LTU' 'TUR' 'ZAF' 'AGO'\n",
      " 'ISR' 'CYM' 'ZMB' 'CPV' 'ZWE' 'DZA' 'KOR' 'CRI' 'HUN' 'ARE' 'TUN' 'JAM'\n",
      " 'HRV' 'HKG' 'IRN' 'GEO' 'AND' 'GIB' 'URY' 'JEY' 'CAF' 'CYP' 'COL' 'GGY'\n",
      " 'KWT' 'NGA' 'MDV' 'VEN' 'SVK' 'FJI' 'KAZ' 'PAK' 'IDN' 'LBN' 'PHL' 'SEN'\n",
      " 'SYC' 'AZE' 'BHR' 'NZL' 'THA' 'DOM' 'MKD' 'MYS' 'ARM' 'JPN' 'LKA' 'CUB'\n",
      " 'CMR' 'BIH' 'MUS' 'COM' 'SUR' 'UGA' 'BGR' 'CIV' 'JOR' 'SYR' 'SGP' 'BDI'\n",
      " 'SAU' 'VNM' 'PLW' 'QAT' 'EGY' 'PER' 'MLT' 'MWI' 'ECU' 'MDG' 'ISL' 'UZB'\n",
      " 'NPL' 'BHS' 'MAC' 'TGO' 'TWN' 'DJI' 'STP' 'KNA' 'ETH' 'IRQ' 'HND' 'RWA'\n",
      " 'KHM' 'MCO' 'BGD' 'IMN' 'TJK' 'NIC' 'BEN' 'VGB' 'TZA' 'GAB' 'GHA' 'TMP'\n",
      " 'GLP' 'KEN' 'LIE' 'GNB' 'MNE' 'UMI' 'MYT' 'FRO' 'MMR' 'PAN' 'BFA' 'LBY'\n",
      " 'MLI' 'NAM' 'BOL' 'PRY' 'BRB' 'ABW' 'AIA' 'SLV' 'DMA' 'PYF' 'GUY' 'LCA'\n",
      " 'ATA' 'GTM' 'ASM' 'MRT' 'NCL' 'KIR' 'SDN' 'ATF' 'SLE' 'LAO']\n",
      "-------------------------------------------------------------------\n",
      "market_segment\n",
      "['Direct' 'Corporate' 'Online TA' 'Offline TA/TO' 'Complementary' 'Groups'\n",
      " 'Undefined' 'Aviation']\n",
      "-------------------------------------------------------------------\n",
      "distribution_channel\n",
      "['Direct' 'Corporate' 'TA/TO' 'Undefined' 'GDS']\n",
      "-------------------------------------------------------------------\n",
      "reserved_room_type\n",
      "['C' 'A' 'D' 'E' 'G' 'F' 'H' 'L' 'P' 'B']\n",
      "-------------------------------------------------------------------\n",
      "assigned_room_type\n",
      "['C' 'A' 'D' 'E' 'G' 'F' 'I' 'B' 'H' 'P' 'L' 'K']\n",
      "-------------------------------------------------------------------\n",
      "deposit_type\n",
      "['No Deposit' 'Refundable' 'Non Refund']\n",
      "-------------------------------------------------------------------\n",
      "customer_type\n",
      "['Transient' 'Contract' 'Transient-Party' 'Group']\n",
      "-------------------------------------------------------------------\n",
      "reservation_status\n",
      "['Check-Out' 'Canceled' 'No-Show']\n",
      "-------------------------------------------------------------------\n"
     ]
    }
   ],
   "source": [
    "for col in df.describe(include=object):\n",
    "    print(col)\n",
    "    print(df[col].unique())\n",
    "    print(\"-------------------------------------------------------------------\")\n",
    "    #  print(\"-\"*67)"
   ]
  },
  {
   "cell_type": "code",
   "execution_count": 694,
   "id": "8074a823-8628-4f39-8076-3236b70602ec",
   "metadata": {},
   "outputs": [
    {
     "data": {
      "text/plain": [
       "hotel                                  0\n",
       "is_canceled                            0\n",
       "lead_time                              0\n",
       "arrival_date_year                      0\n",
       "arrival_date_month                     0\n",
       "arrival_date_week_number               0\n",
       "arrival_date_day_of_month              0\n",
       "stays_in_weekend_nights                0\n",
       "stays_in_week_nights                   0\n",
       "adults                                 0\n",
       "children                               4\n",
       "babies                                 0\n",
       "meal                                   0\n",
       "country                              488\n",
       "market_segment                         0\n",
       "distribution_channel                   0\n",
       "is_repeated_guest                      0\n",
       "previous_cancellations                 0\n",
       "previous_bookings_not_canceled         0\n",
       "reserved_room_type                     0\n",
       "assigned_room_type                     0\n",
       "booking_changes                        0\n",
       "deposit_type                           0\n",
       "agent                              16340\n",
       "company                           112593\n",
       "days_in_waiting_list                   0\n",
       "customer_type                          0\n",
       "adr                                    0\n",
       "required_car_parking_spaces            0\n",
       "total_of_special_requests              0\n",
       "reservation_status                     0\n",
       "reservation_status_date                0\n",
       "dtype: int64"
      ]
     },
     "execution_count": 694,
     "metadata": {},
     "output_type": "execute_result"
    }
   ],
   "source": [
    "df.isnull().sum()"
   ]
  },
  {
   "cell_type": "code",
   "execution_count": 695,
   "id": "1d30588b-3251-404d-af29-2079d7b53e3c",
   "metadata": {},
   "outputs": [
    {
     "data": {
      "text/plain": [
       "0        NaN\n",
       "1        NaN\n",
       "2        NaN\n",
       "3        NaN\n",
       "4        NaN\n",
       "          ..\n",
       "119385   NaN\n",
       "119386   NaN\n",
       "119387   NaN\n",
       "119388   NaN\n",
       "119389   NaN\n",
       "Name: company, Length: 119390, dtype: float64"
      ]
     },
     "execution_count": 695,
     "metadata": {},
     "output_type": "execute_result"
    }
   ],
   "source": [
    "df.company"
   ]
  },
  {
   "cell_type": "code",
   "execution_count": null,
   "id": "15f5f5fc-6cf0-47d9-abd1-225fd3584da7",
   "metadata": {},
   "outputs": [],
   "source": [
    "df.drop(['company','agent'], axis=1, inplace =True)"
   ]
  },
  {
   "cell_type": "code",
   "execution_count": null,
   "id": "04a76b34-4dcd-44fb-9c08-da35bfff18e7",
   "metadata": {},
   "outputs": [],
   "source": [
    "df.dropna(inplace =True)"
   ]
  },
  {
   "cell_type": "code",
   "execution_count": null,
   "id": "d4127d01-8e12-4fca-8c4c-f9a771d60ae8",
   "metadata": {},
   "outputs": [],
   "source": [
    "df.isnull().sum()"
   ]
  },
  {
   "cell_type": "code",
   "execution_count": null,
   "id": "981a56e4-a8fa-4eb5-afa5-224984737344",
   "metadata": {},
   "outputs": [],
   "source": [
    "df.describe()  #summary of numerical column"
   ]
  },
  {
   "cell_type": "code",
   "execution_count": null,
   "id": "c2cd6ef7-be7b-4bb5-9808-8e3d56fd8e56",
   "metadata": {},
   "outputs": [],
   "source": [
    "df['adr'].plot(kind=\"box\")"
   ]
  },
  {
   "cell_type": "markdown",
   "id": "cae100ac-9b60-483c-a0a5-2963ee58f322",
   "metadata": {},
   "source": [
    "Ourlier : one data is above 5000 affectiong the dataset of adr"
   ]
  },
  {
   "cell_type": "code",
   "execution_count": null,
   "id": "599f8d93-387c-4c96-a407-52370bda0c2a",
   "metadata": {},
   "outputs": [],
   "source": [
    "df=df[df['adr']<5000]"
   ]
  },
  {
   "cell_type": "code",
   "execution_count": null,
   "id": "4eb0798f-ed1e-47ac-ba83-4a5b3f2e89bb",
   "metadata": {},
   "outputs": [],
   "source": [
    "df['adr'].plot(kind=\"box\")"
   ]
  },
  {
   "cell_type": "markdown",
   "id": "cb9b7ce2-694d-499a-8d58-b650274c6c01",
   "metadata": {},
   "source": [
    "# Data Analysis and Visualization"
   ]
  },
  {
   "cell_type": "code",
   "execution_count": null,
   "id": "f90a183d-ae21-40d1-9acf-0904dc357a9a",
   "metadata": {},
   "outputs": [],
   "source": [
    "cancel_percent=df['is_canceled'].value_counts(normalize=True)"
   ]
  },
  {
   "cell_type": "code",
   "execution_count": null,
   "id": "77488be1-df17-4650-8f9d-f973ffed2aab",
   "metadata": {},
   "outputs": [],
   "source": [
    "print(cancel_percent)"
   ]
  },
  {
   "cell_type": "code",
   "execution_count": null,
   "id": "c3fca1b1-c0c2-44e8-a387-b0e8a54384e7",
   "metadata": {},
   "outputs": [],
   "source": [
    "\n",
    "plt.figure(figsize=(6, 4))\n",
    "plt.title('Reservation Count', fontsize=16)\n",
    "print(cancel_percent)\n",
    "plt.bar(['is_canceled','not_canceled'],df['is_canceled'].value_counts(),edgecolor='k',width=0.7)\n",
    "plt.show()"
   ]
  },
  {
   "cell_type": "code",
   "execution_count": null,
   "id": "a2cbd1a2-c854-46f3-9a0f-51a4ff570c13",
   "metadata": {},
   "outputs": [],
   "source": [
    "df.groupby('hotel')['is_canceled'].value_counts(normalize=True).unstack()*100"
   ]
  },
  {
   "cell_type": "code",
   "execution_count": null,
   "id": "134b63ab-0598-4764-bcb5-d81671265188",
   "metadata": {},
   "outputs": [],
   "source": [
    "plt.figure(figsize=(8,4))\n",
    "ax1=sns.countplot(x='hotel',hue='is_canceled',data=df,palette='Blues')\n",
    "\n",
    "\n",
    "plt.xlabel(\"Hotel name\")\n",
    "plt.ylabel(\"Canceled count\")\n",
    "plt.title(\"Hotel Cancelation status\",fontsize=15)\n",
    "plt.legend(title='cancel', bbox_to_anchor=(1.05, 1), loc='upper left')\n",
    "plt.xticks(rotation=0)\n",
    "plt.tight_layout()"
   ]
  },
  {
   "cell_type": "markdown",
   "id": "51635564-47d7-4774-a350-68e8f5fcfd6d",
   "metadata": {},
   "source": [
    "0= reservation, 1 cancellation"
   ]
  },
  {
   "cell_type": "markdown",
   "id": "0b228f46-9689-45bd-b4a0-764dc6aa6400",
   "metadata": {},
   "source": [
    "**Explore how lead time affects cancellations.**  (Lead Time refers to the number of days between the date a customer makes a reservation and the actual arrival date at the hotel.)"
   ]
  },
  {
   "cell_type": "code",
   "execution_count": null,
   "id": "d2030cb5-ae30-4e33-b8ae-60c4c08b3ac2",
   "metadata": {},
   "outputs": [],
   "source": [
    "df['lead_time'].dtype\n"
   ]
  },
  {
   "cell_type": "code",
   "execution_count": null,
   "id": "0cd5276e-597f-43de-97eb-369ff5d13c9c",
   "metadata": {},
   "outputs": [],
   "source": [
    "plt.figure(figsize=(10, 5))\n",
    "sns.histplot(df['lead_time'], bins=50, kde=True)\n",
    "plt.title('Distribution of Lead Time')\n",
    "plt.xlabel('Lead Time (Days)')\n",
    "plt.ylabel('Frequency')\n",
    "plt.show()"
   ]
  },
  {
   "cell_type": "code",
   "execution_count": null,
   "id": "c8bed8c4-5ad9-454b-8075-c195684b0daa",
   "metadata": {},
   "outputs": [],
   "source": [
    "plt.figure(figsize=(8, 5))\n",
    "sns.boxplot(x=df['is_canceled'], y=df['lead_time'])\n",
    "plt.title('Lead Time vs. Booking Cancellation')\n",
    "plt.xlabel('Booking Canceled (0 = No, 1 = Yes)')\n",
    "plt.ylabel('Lead Time (Days)')\n",
    "plt.show()"
   ]
  },
  {
   "cell_type": "markdown",
   "id": "fa52b0a8-610f-40aa-82a4-17b5a1a10155",
   "metadata": {},
   "source": [
    "Key Observations:\n",
    "Higher Lead Time Increases Cancellations:\n",
    "\n",
    "The median lead time (middle line in the box) is higher for canceled bookings compared to non-canceled ones.\n",
    "\n",
    "This suggests that bookings made far in advance are more likely to be canceled.\n",
    "\n",
    "Wider Spread for Canceled Bookings:\n",
    "\n",
    "The box for canceled bookings (1) is more spread out, meaning there is higher variability in lead time.\n",
    "\n",
    "Some customers book months ahead and later cancel, while others cancel closer to the check-in date.\n",
    "\n",
    "Outliers Present:\n",
    "\n",
    "Both groups have outliers, meaning some bookings have extremely long lead times (over 700 days in rare cases).\n",
    "\n",
    "However, more extreme values appear in the canceled bookings, reinforcing the idea that longer lead times correlate with cancellations."
   ]
  },
  {
   "cell_type": "code",
   "execution_count": null,
   "id": "202118ae-bc3f-4d7a-b238-7cf47974271d",
   "metadata": {},
   "outputs": [],
   "source": [
    "# Create lead time bins\n",
    "df['lead_time_bins'] = pd.cut(df['lead_time'], bins=[0, 30, 60, 90, 180, 365], \n",
    "                              labels=['0-30 days', '31-60 days', '61-90 days', '91-180 days', '181-365 days'])\n",
    "\n",
    "# Calculate cancellation rate per lead time category\n",
    "cancellation_rates = df.groupby('lead_time_bins')['is_canceled'].mean() * 100\n",
    "\n",
    "# Plot cancellation rates\n",
    "plt.figure(figsize=(8, 5))\n",
    "sns.barplot(x=cancellation_rates.index, y=cancellation_rates.values,palette=\"viridis\")\n",
    "plt.title('Cancellation Rate by Lead Time')\n",
    "plt.xlabel('Lead Time (Days)')\n",
    "plt.ylabel('Cancellation Rate (%)')\n",
    "plt.show()\n"
   ]
  },
  {
   "cell_type": "markdown",
   "id": "21e68588-e9a2-4713-9d94-ac597d42de82",
   "metadata": {},
   "source": [
    "Lead Time Is higher cancellation rate is higher"
   ]
  },
  {
   "cell_type": "markdown",
   "id": "c4dd520c-9408-4187-88b2-371f0310f0bb",
   "metadata": {},
   "source": [
    "**Examine whether customers with special requests tend to cancel less.**"
   ]
  },
  {
   "cell_type": "code",
   "execution_count": null,
   "id": "2b2f6470-1bb8-4d3c-a686-93e518668ef0",
   "metadata": {},
   "outputs": [],
   "source": [
    "# Check distribution of special requests\n",
    "plt.figure(figsize=(8, 5))\n",
    "sns.histplot(df['total_of_special_requests'], bins=6, kde=True)\n",
    "plt.title('Distribution of Special Requests')\n",
    "plt.xlabel('Number of Special Requests')\n",
    "plt.ylabel('Frequency')\n",
    "plt.show()"
   ]
  },
  {
   "cell_type": "markdown",
   "id": "e661e935-537c-4544-ab71-652652e56619",
   "metadata": {},
   "source": [
    "Key Observations:\n",
    "Most Guests Make No Special Requests (0 Requests Dominates)\n",
    "\n",
    "The highest frequency is for 0 special requests, meaning a large portion of guests do not make any special requests.\n",
    "\n",
    "Gradual Decrease in Special Requests\n",
    "\n",
    "As the number of special requests increases, the frequency of guests making them decreases significantly.\n",
    "\n",
    "Only a small number of guests make 3 or more special requests.\n",
    "\n",
    "Peaks at 1 and 2 Special Requests\n",
    "\n",
    "There are secondary peaks at 1 and 2 requests, indicating that a fair number of guests ask for one or two special arrangements, but very few go beyond that."
   ]
  },
  {
   "cell_type": "code",
   "execution_count": null,
   "id": "a46c555e-2877-4c01-8b26-5fd4785ac171",
   "metadata": {},
   "outputs": [],
   "source": [
    "# Calculate average cancellation rate per special request count\n",
    "cancellation_rates = df.groupby('total_of_special_requests')['is_canceled'].mean() * 100\n",
    "\n",
    "# Plot the cancellation rates\n",
    "plt.figure(figsize=(8, 5))\n",
    "sns.barplot(x=cancellation_rates.index, y=cancellation_rates.values, palette=\"viridis\")\n",
    "plt.title('Cancellation Rate by Number of Special Requests')\n",
    "plt.xlabel('Number of Special Requests')\n",
    "plt.ylabel('Cancellation Rate (%)')\n",
    "plt.show()"
   ]
  },
  {
   "cell_type": "code",
   "execution_count": null,
   "id": "cfb78edb-f7c7-438b-b1ef-eb56ea4e7690",
   "metadata": {},
   "outputs": [],
   "source": [
    " resort_hotel= df[df['hotel']=='Resort Hotel']"
   ]
  },
  {
   "cell_type": "code",
   "execution_count": null,
   "id": "0fc364a4-9ed3-47fb-8093-56cc8fd711ea",
   "metadata": {},
   "outputs": [],
   "source": [
    "resort_hotel"
   ]
  },
  {
   "cell_type": "code",
   "execution_count": null,
   "id": "ab3766d1-ea55-4081-9a43-7f931ce4fe3d",
   "metadata": {},
   "outputs": [],
   "source": [
    "resort_hotel=resort_hotel.groupby('reservation_status_date')['adr'].mean()"
   ]
  },
  {
   "cell_type": "code",
   "execution_count": null,
   "id": "697b66aa-5fd7-4bb4-8f35-3bb5d0ca8773",
   "metadata": {},
   "outputs": [],
   "source": [
    "resort_hotel"
   ]
  },
  {
   "cell_type": "code",
   "execution_count": null,
   "id": "83528a74-bd3c-48b9-87ab-d732d48edcdf",
   "metadata": {},
   "outputs": [],
   "source": [
    "city_hotel= df[df['hotel']=='City Hotel']"
   ]
  },
  {
   "cell_type": "code",
   "execution_count": null,
   "id": "e15fe1b0-956d-4735-962e-8c35d7a65b58",
   "metadata": {},
   "outputs": [],
   "source": [
    "city_hotel=city_hotel.groupby('reservation_status_date')['adr'].mean()"
   ]
  },
  {
   "cell_type": "code",
   "execution_count": null,
   "id": "bfb40f45-acfd-4cce-aa4e-b48e6fe7423f",
   "metadata": {},
   "outputs": [],
   "source": [
    "city_hotel"
   ]
  },
  {
   "cell_type": "code",
   "execution_count": null,
   "id": "0045c90a-ec51-4d4c-81cc-8e483e551b0b",
   "metadata": {},
   "outputs": [],
   "source": [
    "plt.figure(figsize=(14,6))\n",
    "\n",
    "plt.title(\"Average Daily rate in City and Resort Hotel\",fontsize=15)\n",
    "plt.plot(city_hotel.index, city_hotel.values,label ='City Hotel')\n",
    "plt.plot(resort_hotel.index, resort_hotel.values,label ='Resort Hotel')\n",
    "\n",
    "plt.legend(title='Hotels', bbox_to_anchor=(1.05, 1), loc='upper left')\n",
    "plt.show()\n",
    "\n",
    "          "
   ]
  },
  {
   "cell_type": "markdown",
   "id": "4907fdc4-bd2b-4be5-ad9b-2d33b5283ca9",
   "metadata": {},
   "source": [
    "most blue line is in between mean avg rate of city hotels is almost same\n",
    "but in resort hotel orance line there are huge spikes which mean there is huge price difference in normal days and weekends or festive days"
   ]
  },
  {
   "cell_type": "code",
   "execution_count": null,
   "id": "d8dd79bd-ccc3-4751-bcd4-cfa948a62537",
   "metadata": {},
   "outputs": [],
   "source": []
  },
  {
   "cell_type": "code",
   "execution_count": null,
   "id": "96c6324a-5b0c-44c0-929e-a8b2cac2f9fb",
   "metadata": {},
   "outputs": [],
   "source": [
    "plt.figure(figsize=(14,6))\n",
    "df['month']=df['reservation_status_date'].dt.month\n",
    "sns.countplot(x='month',hue='is_canceled',data=df,palette='plasma')\n",
    "\n",
    "plt.title(\"Monthwise cancelation status\",fontsize=15)\n",
    "plt.legend(title='canceled status', bbox_to_anchor=(1.05, 1), loc='upper left')\n",
    "plt.show()\n",
    "\n"
   ]
  },
  {
   "cell_type": "markdown",
   "id": "914f2889-8368-4098-ba99-b7e70fa731a3",
   "metadata": {},
   "source": [
    "jan has high canceled,  \n",
    "in aug has lowest cancellation status reason -- "
   ]
  },
  {
   "cell_type": "code",
   "execution_count": null,
   "id": "5666b441-88af-41ff-a9b3-4167e9bbe847",
   "metadata": {},
   "outputs": [],
   "source": [
    "#data=df[df['is_canceled']==1].groupby('month')[['adr']].sum().reset_index()"
   ]
  },
  {
   "cell_type": "code",
   "execution_count": null,
   "id": "7817cf67-578f-4969-8dc1-56422548f3e1",
   "metadata": {},
   "outputs": [],
   "source": [
    "plt.figure(figsize=(14,6))\n",
    "\n",
    "sns.barplot(x=data['month'], y=data['adr'], data=df[df['is_canceled']==1].groupby('month')[['adr']].sum().reset_index())  # Added x= and y= parameters\n",
    "plt.title(\"Monthwise adr\",fontsize=15) \n",
    "plt.show()"
   ]
  },
  {
   "cell_type": "code",
   "execution_count": null,
   "id": "51092198-0ce3-4ab3-9629-358f74024d79",
   "metadata": {},
   "outputs": [],
   "source": [
    "df_cancelled=df[df['is_canceled']==1]\n",
    "top_10_countries=df_cancelled['country'].value_counts()[:10]\n",
    "\n"
   ]
  },
  {
   "cell_type": "code",
   "execution_count": null,
   "id": "0ec811d1-8275-404b-9efa-3888e22c3b2b",
   "metadata": {},
   "outputs": [],
   "source": [
    "top_10_countries"
   ]
  },
  {
   "cell_type": "code",
   "execution_count": null,
   "id": "738f4a4d-6eba-4e66-8450-4b9985d48cbb",
   "metadata": {},
   "outputs": [],
   "source": [
    "plt.figure(figsize = (9,9))\n",
    "plt.pie(top_10_countries, autopct = \"%1.2f%%\", labels=top_10_countries.index)\n",
    "plt.title(\"Countrywise Cancelation status\", fontsize = 15)\n",
    "plt.show()\n"
   ]
  },
  {
   "cell_type": "markdown",
   "id": "cad936ee-6fda-4044-a471-c3d7a18a8057",
   "metadata": {},
   "source": [
    "Prt has high cancelation rate wrt othe countries"
   ]
  },
  {
   "cell_type": "code",
   "execution_count": null,
   "id": "424d331d-7531-47ef-a770-b0055ede3968",
   "metadata": {},
   "outputs": [],
   "source": [
    "df.columns\n"
   ]
  },
  {
   "cell_type": "code",
   "execution_count": null,
   "id": "24144ff8-19f7-4463-927b-c3174ba22ee6",
   "metadata": {},
   "outputs": [],
   "source": [
    "df.market_segment.value_counts(normalize=True)*100"
   ]
  },
  {
   "cell_type": "markdown",
   "id": "19b86187-be08-4c46-b494-2bed408f9a9a",
   "metadata": {},
   "source": [
    "Online TA        47.437698\r",
    "(Most customer/reservation are comming form Online TA)\n"
   ]
  },
  {
   "cell_type": "code",
   "execution_count": null,
   "id": "571ebf99-7038-4220-bee0-ec3f7fd59f62",
   "metadata": {},
   "outputs": [],
   "source": [
    "df_cancelled.market_segment.value_counts(normalize=True)*100"
   ]
  },
  {
   "cell_type": "markdown",
   "id": "6555269f-3cda-4f0f-9b04-114ee7a1fb32",
   "metadata": {},
   "source": [
    "(Most cancellation are also done by people who are comming through Online TA)    Reason: online presence is goo , good pic,and all reality is different"
   ]
  },
  {
   "cell_type": "code",
   "execution_count": null,
   "id": "45db1d17-f164-4a48-94d4-3a8fc22c50c4",
   "metadata": {},
   "outputs": [],
   "source": [
    "df_cancelled_adr= df_cancelled.groupby('reservation_status_date')[['adr']].mean()\n",
    "df_cancelled_adr.reset_index(inplace=True)\n",
    "df_cancelled_adr.sort_values('reservation_status_date',inplace=True)\n",
    "\n",
    "\n",
    "non_df_cancelled_adr=df[df['is_canceled']==0]\n",
    "non_df_cancelled_adr= non_df_cancelled_adr.groupby('reservation_status_date')[['adr']].mean()\n",
    "non_df_cancelled_adr.reset_index(inplace=True)\n",
    "non_df_cancelled_adr.sort_values('reservation_status_date',inplace=True)\n",
    "\n",
    "\n",
    "\n",
    "plt.figure(figsize=(16,6))\n",
    "\n",
    "plt.title(\"Average Daily rate on Date\",fontsize=15)\n",
    "plt.plot(df_cancelled_adr['reservation_status_date'], df_cancelled_adr['adr'],label ='canceled')\n",
    "plt.plot(non_df_cancelled_adr['reservation_status_date'], non_df_cancelled_adr['adr'],label ='not canceled')\n",
    "\n",
    "plt.legend(title='hotels', bbox_to_anchor=(1.05, 1), loc='upper left')\n",
    "plt.show()\n",
    "\n",
    "          "
   ]
  },
  {
   "cell_type": "code",
   "execution_count": null,
   "id": "7b350d81-8a16-4feb-8bd5-b9430e16d94f",
   "metadata": {},
   "outputs": [],
   "source": [
    "df_cancelled_adr=df_cancelled_adr[(df_cancelled_adr['reservation_status_date']>'2016')& (df_cancelled_adr['reservation_status_date']<'2017')]\n",
    "non_df_cancelled_adr=non_df_cancelled_adr[(non_df_cancelled_adr['reservation_status_date']>'2016')& (non_df_cancelled_adr['reservation_status_date']<'2017')]\n"
   ]
  },
  {
   "cell_type": "code",
   "execution_count": null,
   "id": "82b9c563-555f-44fb-b07d-bc438534346d",
   "metadata": {},
   "outputs": [],
   "source": [
    "plt.figure(figsize=(16,6))\n",
    "\n",
    "plt.title(\"Average Daily rate on Date\",fontsize=15)\n",
    "plt.plot(df_cancelled_adr['reservation_status_date'], df_cancelled_adr['adr'],label ='canceled')\n",
    "plt.plot(non_df_cancelled_adr['reservation_status_date'], non_df_cancelled_adr['adr'],label ='not canceled')\n",
    "\n",
    "plt.legend(title='hotels', bbox_to_anchor=(1.05, 1), loc='upper left')\n",
    "plt.show()\n"
   ]
  },
  {
   "cell_type": "code",
   "execution_count": null,
   "id": "c11c88da-b39b-4f8e-b9ee-aa2b06267ac2",
   "metadata": {},
   "outputs": [],
   "source": []
  }
 ],
 "metadata": {
  "kernelspec": {
   "display_name": "Python 3 (ipykernel)",
   "language": "python",
   "name": "python3"
  },
  "language_info": {
   "codemirror_mode": {
    "name": "ipython",
    "version": 3
   },
   "file_extension": ".py",
   "mimetype": "text/x-python",
   "name": "python",
   "nbconvert_exporter": "python",
   "pygments_lexer": "ipython3",
   "version": "3.11.5"
  }
 },
 "nbformat": 4,
 "nbformat_minor": 5
}
